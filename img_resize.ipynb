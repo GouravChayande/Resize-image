{
 "cells": [
  {
   "cell_type": "code",
   "execution_count": 1,
   "metadata": {},
   "outputs": [],
   "source": [
    "from PIL import Image \n",
    "import os,glob\n",
    "\n",
    "img_list=[]\n",
    "res_list=[]\n",
    "\n",
    "for file in glob.glob('C:\\\\Users\\\\Gourav\\\\Desktop\\\\Stage_0\\\\Memes\\\\*.jpg'):\n",
    "    img = Image.open(file) \n",
    "    img_list.append(img)\n",
    "    resimg = img.resize((256, 256))\n",
    "    res_list.append(resimg)\n",
    "    \n",
    "for file in glob.glob('C:\\\\Users\\\\Gourav\\\\Desktop\\\\Stage_0\\\\Memes\\\\*.png'):\n",
    "    img = Image.open(file) \n",
    "    img_list.append(img)\n",
    "    resimg = img.resize((256, 256))\n",
    "    res_list.append(resimg)\n",
    "        \n",
    "for file in glob.glob('C:\\\\Users\\\\Gourav\\\\Desktop\\\\Stage_0\\\\Memes\\\\*.JPEG'):\n",
    "    img = Image.open(file) \n",
    "    img_list.append(img)\n",
    "    resimg = img.resize((256, 256))\n",
    "    res_list.append(resimg)"
   ]
  },
  {
   "cell_type": "code",
   "execution_count": 3,
   "metadata": {},
   "outputs": [],
   "source": [
    "for (i,resimg) in enumerate(res_list):\n",
    "    resimg.save('{}{}{}'.format('C:\\\\Users\\\\Gourav\\\\Desktop\\\\reshaped\\\\Memes\\\\',i,'.jpg'))\n"
   ]
  },
  {
   "cell_type": "code",
   "execution_count": 4,
   "metadata": {},
   "outputs": [],
   "source": [
    "img1_list=[]\n",
    "res1_list=[]\n",
    "\n",
    "for file in glob.glob('C:\\\\Users\\\\Gourav\\\\Desktop\\\\Stage_0\\\\Notes\\\\*.jpg'):\n",
    "    img = Image.open(file) \n",
    "    img1_list.append(img)\n",
    "    resimg = img.resize((256, 256))\n",
    "    res1_list.append(resimg)\n",
    "    \n",
    "for file in glob.glob('C:\\\\Users\\\\Gourav\\\\Desktop\\\\Stage_0\\\\Notes\\\\*.png'):\n",
    "    img = Image.open(file) \n",
    "    img1_list.append(img)\n",
    "    resimg = img.resize((256, 256))\n",
    "    res1_list.append(resimg)\n",
    "        \n",
    "for file in glob.glob('C:\\\\Users\\\\Gourav\\\\Desktop\\\\Stage_0\\\\Notes\\\\*.JPEG'):\n",
    "    img = Image.open(file) \n",
    "    img1_list.append(img)\n",
    "    resimg = img.resize((256, 256))\n",
    "    res1_list.append(resimg)"
   ]
  },
  {
   "cell_type": "code",
   "execution_count": 5,
   "metadata": {},
   "outputs": [],
   "source": [
    "for (i,resimg) in enumerate(res1_list):\n",
    "    resimg.save('{}{}{}'.format('C:\\\\Users\\\\Gourav\\\\Desktop\\\\reshaped\\\\Notes\\\\',800+i,'.jpg'))\n"
   ]
  }
 ],
 "metadata": {
  "kernelspec": {
   "display_name": "Python 3",
   "language": "python",
   "name": "python3"
  },
  "language_info": {
   "codemirror_mode": {
    "name": "ipython",
    "version": 3
   },
   "file_extension": ".py",
   "mimetype": "text/x-python",
   "name": "python",
   "nbconvert_exporter": "python",
   "pygments_lexer": "ipython3",
   "version": "3.7.4"
  }
 },
 "nbformat": 4,
 "nbformat_minor": 2
}
